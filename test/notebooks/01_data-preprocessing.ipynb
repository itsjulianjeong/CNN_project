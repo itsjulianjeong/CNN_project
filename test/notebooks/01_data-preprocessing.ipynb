{
 "cells": [
  {
   "cell_type": "markdown",
   "id": "757a79cc",
   "metadata": {},
   "source": [
    "# 데이터셋 디렉터리 구조 수정\n",
    "## 현재\n",
    "```pgsql\n",
    "test/data/raw/   \n",
    "├── TrainingSet/TrainingSet/Closed/*.jpg  \n",
    "├── TrainingSet/TrainingSet/Opened/*.jpg  \n",
    "├── TrainingSet_json/TrainingSet_json/*.json   \n",
    "├── TestSet/TestSet/Closed/*.jpg  \n",
    "├── TestSet/TestSet/Opened/*.jpg   \n",
    "├── TestSet_json/TestSet_json/*.json   \n",
    "├── ImprovementSet/ImprovementSet/ImprovementSet/Closed/*.jpg   \n",
    "├── ImprovementSet/ImprovementSet/ImprovementSet/Opened/*.jpg   \n",
    "├── ImprovementSet/ImprovementSet/Json/*.json  \n",
    "```"
   ]
  },
  {
   "cell_type": "code",
   "execution_count": 1,
   "id": "414ae410",
   "metadata": {},
   "outputs": [],
   "source": [
    "import os\n",
    "import shutil"
   ]
  },
  {
   "cell_type": "code",
   "execution_count": 3,
   "id": "11c51ff0",
   "metadata": {},
   "outputs": [],
   "source": [
    "RAW_DIR=\"../data/raw\"\n",
    "TARGETS=[\"TrainingSet\", \"TestSet\", \"ImprovementSet\"]\n",
    "\n",
    "for target in TARGETS:\n",
    "    # 출발지\n",
    "    if target==\"ImprovementSet\":\n",
    "        src_img_dir=os.path.join(RAW_DIR, target, target, target)\n",
    "        src_json_dir=os.path.join(RAW_DIR, target, target, \"Json\")\n",
    "    else:\n",
    "        src_img_dir=os.path.join(RAW_DIR, target, target)\n",
    "        src_json_dir=os.path.join(RAW_DIR, f\"{target}_json\", f\"{target}_json\")\n",
    "\n",
    "    # 목적지\n",
    "    dst_img_dir=os.path.join(RAW_DIR, target, \"images\")\n",
    "    dst_json_dir=os.path.join(RAW_DIR, target, \"json\")\n",
    "\n",
    "    os.makedirs(dst_img_dir, exist_ok=True)\n",
    "    os.makedirs(dst_json_dir, exist_ok=True)\n",
    "\n",
    "    # Closed, Opened 이미지 이동\n",
    "    for cls in [\"Closed\", \"Opened\"]:\n",
    "        cls_path=os.path.join(src_img_dir, cls)\n",
    "        if os.path.exists(cls_path):\n",
    "            for file in os.listdir(cls_path):\n",
    "                src_file=os.path.join(cls_path, file)\n",
    "                dst_file=os.path.join(dst_img_dir, file)\n",
    "                if not os.path.exists(dst_file):\n",
    "                    shutil.move(src_file, dst_file)\n",
    "\n",
    "    # JSON 이동\n",
    "    if os.path.exists(src_json_dir):\n",
    "        for file in os.listdir(src_json_dir):\n",
    "            if file.endswith(\".json\"):\n",
    "                src_file=os.path.join(src_json_dir, file)\n",
    "                dst_file=os.path.join(dst_json_dir, file)\n",
    "                if not os.path.exists(dst_file):\n",
    "                    shutil.move(src_file, dst_file)\n",
    "\n",
    "    # 옮긴 후 기존 폴더 삭제\n",
    "    if os.path.exists(src_img_dir):\n",
    "        shutil.rmtree(src_img_dir)\n",
    "    if os.path.exists(src_json_dir):\n",
    "        shutil.rmtree(src_json_dir)"
   ]
  },
  {
   "cell_type": "markdown",
   "id": "caf3e0cd",
   "metadata": {},
   "source": [
    "## 정리 후 구조\n",
    "```pgsql\n",
    "test/data/raw/\n",
    "├── TrainingSet/\n",
    "│   ├── images/  # Closed + Opened 전부 여기에\n",
    "│   └── json/\n",
    "├── TestSet/\n",
    "│   ├── images/\n",
    "│   └── json/\n",
    "├── ImprovementSet/\n",
    "│   ├── images/\n",
    "│   └── json/\n",
    "```"
   ]
  },
  {
   "cell_type": "code",
   "execution_count": 7,
   "id": "d6368ed4",
   "metadata": {},
   "outputs": [
    {
     "name": "stdout",
     "output_type": "stream",
     "text": [
      "\u001b[01;34m../data/raw\u001b[0m\n",
      "├── \u001b[01;34mImprovementSet\u001b[0m\n",
      "├── \u001b[01;34mTestSet\u001b[0m\n",
      "├── \u001b[01;34mTestSet_json\u001b[0m\n",
      "├── \u001b[01;34mTrainingSet\u001b[0m\n",
      "├── \u001b[01;34mTrainingSet_json\u001b[0m\n",
      "└── pretrainedModel.pth\n",
      "\n",
      "5 directories, 1 file\n"
     ]
    }
   ],
   "source": [
    "!tree ../data/raw -L 1"
   ]
  },
  {
   "cell_type": "code",
   "execution_count": 8,
   "id": "58150f51",
   "metadata": {},
   "outputs": [
    {
     "name": "stdout",
     "output_type": "stream",
     "text": [
      "\u001b[01;34m../data/raw\u001b[0m\n",
      "├── \u001b[01;34mImprovementSet\u001b[0m\n",
      "│   ├── \u001b[01;34mImprovementSet\u001b[0m\n",
      "│   ├── \u001b[01;34mimages\u001b[0m\n",
      "│   └── \u001b[01;34mjson\u001b[0m\n",
      "├── \u001b[01;34mTestSet\u001b[0m\n",
      "│   ├── \u001b[01;34mimages\u001b[0m\n",
      "│   └── \u001b[01;34mjson\u001b[0m\n",
      "├── \u001b[01;34mTestSet_json\u001b[0m\n",
      "├── \u001b[01;34mTrainingSet\u001b[0m\n",
      "│   ├── \u001b[01;34mimages\u001b[0m\n",
      "│   └── \u001b[01;34mjson\u001b[0m\n",
      "├── \u001b[01;34mTrainingSet_json\u001b[0m\n",
      "└── pretrainedModel.pth\n",
      "\n",
      "12 directories, 1 file\n"
     ]
    }
   ],
   "source": [
    "!tree ../data/raw -L 2"
   ]
  },
  {
   "cell_type": "code",
   "execution_count": 9,
   "id": "b10e8261",
   "metadata": {},
   "outputs": [],
   "source": [
    "!rm -r ../data/raw/TrainingSet_json ../data/raw/TestSet_json ../data/raw/ImprovementSet/ImprovementSet"
   ]
  },
  {
   "cell_type": "code",
   "execution_count": 11,
   "id": "d69ce81d",
   "metadata": {},
   "outputs": [
    {
     "name": "stdout",
     "output_type": "stream",
     "text": [
      "\u001b[01;34m../data/raw\u001b[0m\n",
      "├── \u001b[01;34mImprovementSet\u001b[0m\n",
      "│   ├── \u001b[01;34mimages\u001b[0m\n",
      "│   └── \u001b[01;34mjson\u001b[0m\n",
      "├── \u001b[01;34mTestSet\u001b[0m\n",
      "│   ├── \u001b[01;34mimages\u001b[0m\n",
      "│   └── \u001b[01;34mjson\u001b[0m\n",
      "├── \u001b[01;34mTrainingSet\u001b[0m\n",
      "│   ├── \u001b[01;34mimages\u001b[0m\n",
      "│   └── \u001b[01;34mjson\u001b[0m\n",
      "└── pretrainedModel.pth\n",
      "\n",
      "9 directories, 1 file\n"
     ]
    }
   ],
   "source": [
    "!tree ../data/raw -L 2"
   ]
  },
  {
   "cell_type": "code",
   "execution_count": null,
   "id": "e01c3f22",
   "metadata": {},
   "outputs": [],
   "source": []
  }
 ],
 "metadata": {
  "kernelspec": {
   "display_name": "WSL_CUDA_TF01",
   "language": "python",
   "name": "python3"
  },
  "language_info": {
   "codemirror_mode": {
    "name": "ipython",
    "version": 3
   },
   "file_extension": ".py",
   "mimetype": "text/x-python",
   "name": "python",
   "nbconvert_exporter": "python",
   "pygments_lexer": "ipython3",
   "version": "3.10.18"
  }
 },
 "nbformat": 4,
 "nbformat_minor": 5
}
