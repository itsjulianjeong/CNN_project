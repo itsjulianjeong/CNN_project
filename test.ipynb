{
 "cells": [
  {
   "cell_type": "code",
   "execution_count": 1,
   "id": "2601fc9c",
   "metadata": {},
   "outputs": [
    {
     "name": "stdout",
     "output_type": "stream",
     "text": [
      "this is a test script\n"
     ]
    }
   ],
   "source": [
    "print(\"this is a test script\")"
   ]
  },
  {
   "cell_type": "code",
   "execution_count": null,
   "id": "75865e38",
   "metadata": {},
   "outputs": [],
   "source": []
  }
 ],
 "metadata": {},
 "nbformat": 4,
 "nbformat_minor": 5
}