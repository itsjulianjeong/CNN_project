{
 "cells": [
  {
   "cell_type": "code",
   "execution_count": 1,
   "id": "3d2896ae",
   "metadata": {},
   "outputs": [],
   "source": [
    "import os\n",
    "import cv2\n",
    "import json\n",
    "import numpy as np\n",
    "import matplotlib.pyplot as plt\n",
    "from tqdm import tqdm"
   ]
  },
  {
   "cell_type": "code",
   "execution_count": 2,
   "id": "4001735f",
   "metadata": {},
   "outputs": [],
   "source": [
    "BASE_IMG_DIR=\"../../data/raw/03_AIHUB_dataset/images\"\n",
    "BASE_JSON_DIR=\"../../data/raw/03_AIHUB_dataset/labeling\"\n",
    "SAVE_DIR=\"../../data/processed/03_AIHUB_dataset/cropped_data\"\n",
    "\n",
    "folder=\"001_G1\"\n",
    "filename=\"001_G1_01_무광원_계기판_정상주시_20200917_182234_02144.jpg\"\n",
    "img_path=os.path.join(BASE_IMG_DIR, folder, filename)\n",
    "json_path=os.path.join(BASE_JSON_DIR, folder, filename.replace(\".jpg\", \".json\"))"
   ]
  },
  {
   "cell_type": "code",
   "execution_count": 3,
   "id": "c42b27b9",
   "metadata": {},
   "outputs": [],
   "source": [
    "img=cv2.imread(img_path, cv2.IMREAD_GRAYSCALE)\n",
    "\n",
    "with open(json_path, \"r\") as f:\n",
    "    data=json.load(f)\n",
    "# print(data)"
   ]
  },
  {
   "cell_type": "code",
   "execution_count": 4,
   "id": "4e6c7469",
   "metadata": {},
   "outputs": [
    {
     "name": "stdout",
     "output_type": "stream",
     "text": [
      "Left eye shape: (41, 82)\n",
      "Right eye shape: (41, 81)\n"
     ]
    }
   ],
   "source": [
    "leye_box=data[\"ObjectInfo\"][\"BoundingBox\"][\"Leye\"][\"Position\"]\n",
    "reye_box=data[\"ObjectInfo\"][\"BoundingBox\"][\"Reye\"][\"Position\"]\n",
    "\n",
    "def crop_eye(img, bbox):\n",
    "    x1, y1, x2, y2 = bbox\n",
    "    return img[y1:y2, x1:x2]\n",
    "\n",
    "leye_img=crop_eye(img, leye_box)\n",
    "reye_img=crop_eye(img, reye_box)\n",
    "\n",
    "print(\"Left eye shape:\", leye_img.shape)\n",
    "print(\"Right eye shape:\", reye_img.shape)\n",
    "\n",
    "\n",
    "# 개인정보 이므로 출력은 지우기\n",
    "\n",
    "# plt.figure(figsize=(10, 4))\n",
    "\n",
    "# plt.subplot(1, 2, 1)\n",
    "# plt.title(\"Left Eye\")\n",
    "# plt.imshow(leye_img, cmap=\"gray\")\n",
    "\n",
    "# plt.subplot(1, 2, 2)\n",
    "# plt.title(\"Right Eye\")\n",
    "# plt.imshow(reye_img, cmap=\"gray\")\n",
    "\n",
    "# plt.show()"
   ]
  },
  {
   "cell_type": "markdown",
   "id": "8cc56499",
   "metadata": {},
   "source": [
    "# 전체 이미지 전처리"
   ]
  },
  {
   "cell_type": "code",
   "execution_count": 5,
   "id": "b5554a5c",
   "metadata": {},
   "outputs": [],
   "source": [
    "IMG_SIZE=(80, 40)"
   ]
  },
  {
   "cell_type": "code",
   "execution_count": 6,
   "id": "9a2ac3c0",
   "metadata": {},
   "outputs": [],
   "source": [
    "# 파일명에 따라 open/closed 라벨 반환\n",
    "def get_label_from_filename(filename):\n",
    "    if \"정상주시\" in filename:\n",
    "        return \"open\"\n",
    "    elif \"졸음재현\" in filename or \"하품재현\" in filename:\n",
    "        return \"closed\"\n",
    "    else:\n",
    "        return None"
   ]
  },
  {
   "cell_type": "code",
   "execution_count": 9,
   "id": "5210153d",
   "metadata": {},
   "outputs": [],
   "source": [
    "import glob\n",
    "\n",
    "def process_all_with_glob():\n",
    "    img_paths=glob.glob(os.path.join(BASE_IMG_DIR, \"*\", \"*.jpg\"))\n",
    "\n",
    "    for img_path in tqdm(img_paths, desc=\"Processing images\", ncols=100):\n",
    "        filename=os.path.basename(img_path)\n",
    "        folder=os.path.basename(os.path.dirname(img_path))\n",
    "        json_path=os.path.join(BASE_JSON_DIR, folder, filename.replace(\".jpg\", \".json\"))\n",
    "\n",
    "        label=get_label_from_filename(filename)\n",
    "        if label is None or not os.path.exists(json_path): continue\n",
    "\n",
    "        img=cv2.imread(img_path, cv2.IMREAD_GRAYSCALE)\n",
    "        if img is None: continue\n",
    "\n",
    "        with open(json_path, \"r\") as f:\n",
    "            data=json.load(f)\n",
    "\n",
    "        try:\n",
    "            leye_box=data[\"ObjectInfo\"][\"BoundingBox\"][\"Leye\"][\"Position\"]\n",
    "            reye_box=data[\"ObjectInfo\"][\"BoundingBox\"][\"Reye\"][\"Position\"]\n",
    "\n",
    "            for LorR, bbox in [(\"left\", leye_box), (\"right\", reye_box)]:\n",
    "                x1, y1, x2, y2=bbox\n",
    "                eye_crop=img[y1:y2, x1:x2]\n",
    "                \n",
    "                if eye_crop is None or eye_crop.size==0: continue\n",
    "                \n",
    "                eye_resized=cv2.resize(eye_crop, IMG_SIZE)  # crop한 눈 resize -> 80, 40\n",
    "\n",
    "                save_dir=os.path.join(SAVE_DIR, label, LorR)\n",
    "                os.makedirs(save_dir, exist_ok=True)\n",
    "                save_path=os.path.join(save_dir, filename)\n",
    "                \n",
    "                cv2.imwrite(save_path, eye_resized)\n",
    "\n",
    "        except KeyError:\n",
    "            continue"
   ]
  },
  {
   "cell_type": "code",
   "execution_count": 10,
   "id": "1f8f7ba4",
   "metadata": {},
   "outputs": [
    {
     "name": "stderr",
     "output_type": "stream",
     "text": [
      "Processing images: 100%|███████████████████████████████████| 112866/112866 [03:30<00:00, 536.73it/s]\n"
     ]
    }
   ],
   "source": [
    "process_all_with_glob()"
   ]
  },
  {
   "cell_type": "code",
   "execution_count": 17,
   "id": "a2bff508",
   "metadata": {},
   "outputs": [
    {
     "name": "stdout",
     "output_type": "stream",
     "text": [
      "open: left -> 48820개\n",
      "open: right -> 46393개\n",
      "closed: left -> 36365개\n",
      "closed: right -> 33184개\n"
     ]
    }
   ],
   "source": [
    "for label in [\"open\", \"closed\"]:\n",
    "    for LorR in [\"left\", \"right\"]:\n",
    "        path=os.path.join(SAVE_DIR, label, LorR)\n",
    "        print(f\"{label}: {LorR} -> {len(os.listdir(path))}개\")"
   ]
  },
  {
   "cell_type": "markdown",
   "id": "3bb8f491",
   "metadata": {},
   "source": [
    "# sample 4개 찍어보기"
   ]
  },
  {
   "cell_type": "code",
   "execution_count": null,
   "id": "e92382d7",
   "metadata": {},
   "outputs": [],
   "source": [
    "# import random\n",
    "\n",
    "# categories=[(\"closed\", \"left\"),\n",
    "#             (\"closed\", \"right\"),\n",
    "#             (\"open\", \"left\"),\n",
    "#             (\"open\", \"right\")]\n",
    "\n",
    "# plt.figure(figsize=(8, 6))\n",
    "\n",
    "# for i, (label, LorR) in enumerate(categories):\n",
    "#     path=os.path.join(SAVE_DIR, label, LorR)\n",
    "#     files=os.listdir(path)\n",
    "#     if not files:\n",
    "#         print(f\"{path}에 이미지가 없습니다.\")\n",
    "#         continue\n",
    "#     sample_img=cv2.imread(os.path.join(path, random.choice(files)), cv2.IMREAD_GRAYSCALE)\n",
    "\n",
    "#     plt.subplot(2, 2, i+1)\n",
    "#     plt.imshow(sample_img, cmap=\"gray\")\n",
    "#     plt.title(f\"{label}: {LorR}\")\n",
    "#     plt.axis(\"off\")\n",
    "\n",
    "# plt.tight_layout()\n",
    "# plt.show()"
   ]
  },
  {
   "cell_type": "markdown",
   "id": "18a014a8",
   "metadata": {},
   "source": [
    "# .npy로 저장\n",
    "- 전체 눈 이미지 load 반복하는 건 속도가 느림 -> .npy로 파일로 저장  \n",
    "- X(이미지), Y(label)로 구성  \n",
    "- GrayScale 이미지니까 shape는 (h, w, 1)로  \n",
    "- 모든 이미지를 numpy 배열로 만들어 X.npy, Y.npy로 저장  "
   ]
  },
  {
   "cell_type": "code",
   "execution_count": 21,
   "id": "d498e892",
   "metadata": {},
   "outputs": [
    {
     "name": "stderr",
     "output_type": "stream",
     "text": [
      "open: left: 100%|███████████████████████████████████████████| 48820/48820 [00:11<00:00, 4217.37it/s]\n",
      "open: right: 100%|██████████████████████████████████████████| 46393/46393 [00:10<00:00, 4225.01it/s]\n",
      "closed: left: 100%|█████████████████████████████████████████| 36365/36365 [00:08<00:00, 4253.23it/s]\n",
      "closed: right: 100%|████████████████████████████████████████| 33184/33184 [00:07<00:00, 4181.96it/s]\n"
     ]
    },
    {
     "name": "stdout",
     "output_type": "stream",
     "text": [
      "X: (164762, 40, 80, 1) / Y: (164762,)\n"
     ]
    }
   ],
   "source": [
    "import numpy as np\n",
    "\n",
    "IMG_SIZE=(80, 40)  # (width, height)\n",
    "base_dir=\"../../data/processed/03_AIHUB_dataset/cropped_data\"\n",
    "\n",
    "X=[]\n",
    "Y=[]\n",
    "\n",
    "for label in [\"open\", \"closed\"]:  \n",
    "    y=1 if label == \"open\" else 0  # open=1, closed=0\n",
    "\n",
    "    for LorR in [\"left\", \"right\"]:\n",
    "        folder=os.path.join(base_dir, label, LorR)\n",
    "        files=os.listdir(folder)\n",
    "        for file in tqdm(files, desc=f\"{label}: {LorR}\", ncols=100):\n",
    "            file_path=os.path.join(folder, file)\n",
    "            img=cv2.imread(file_path, cv2.IMREAD_GRAYSCALE)  # GrayScaling\n",
    "            if img is None: continue\n",
    "            \n",
    "            # (40, 80) -> (40, 80, 1)\n",
    "            img = np.expand_dims(img, axis=-1)\n",
    "            X.append(img)\n",
    "            Y.append(y)\n",
    "X=np.array(X)\n",
    "Y=np.array(Y)\n",
    "print(f\"X: {X.shape} / Y: {Y.shape}\")"
   ]
  },
  {
   "cell_type": "code",
   "execution_count": 22,
   "id": "1bc580c0",
   "metadata": {},
   "outputs": [],
   "source": [
    "np.save(\"../../data/processed/03_AIHUB_dataset/X_eye.npy\", X)\n",
    "np.save(\"../../data/processed/03_AIHUB_dataset/y_eye.npy\", Y)"
   ]
  },
  {
   "cell_type": "code",
   "execution_count": null,
   "id": "dc75bfb1",
   "metadata": {},
   "outputs": [
    {
     "name": "stdout",
     "output_type": "stream",
     "text": [
      "X: (164762, 40, 80, 1) / Y: (164762,)\n",
      "Class 분포: (array([0, 1]), array([69549, 95213]))\n"
     ]
    }
   ],
   "source": [
    "# test\n",
    "X=np.load(\"../../data/processed/03_AIHUB_dataset/X_eye.npy\")\n",
    "Y=np.load(\"../../data/processed/03_AIHUB_dataset/y_eye.npy\")\n",
    "\n",
    "print(f\"X: {X.shape} / Y: {Y.shape}\")\n",
    "print(\"Class 분포:\", np.unique(y, return_counts=True))"
   ]
  },
  {
   "cell_type": "code",
   "execution_count": null,
   "id": "c75e86c2",
   "metadata": {},
   "outputs": [],
   "source": []
  }
 ],
 "metadata": {
  "kernelspec": {
   "display_name": "WSL_CUDA_TF01",
   "language": "python",
   "name": "python3"
  },
  "language_info": {
   "codemirror_mode": {
    "name": "ipython",
    "version": 3
   },
   "file_extension": ".py",
   "mimetype": "text/x-python",
   "name": "python",
   "nbconvert_exporter": "python",
   "pygments_lexer": "ipython3",
   "version": "3.10.18"
  }
 },
 "nbformat": 4,
 "nbformat_minor": 5
}
