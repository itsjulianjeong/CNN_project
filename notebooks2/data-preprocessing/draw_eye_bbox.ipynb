{
 "cells": [
  {
   "cell_type": "code",
   "execution_count": 1,
   "id": "6cf30ad5",
   "metadata": {},
   "outputs": [],
   "source": [
    "import cv2\n",
    "import json\n",
    "import matplotlib.pyplot as plt\n",
    "import os"
   ]
  },
  {
   "cell_type": "code",
   "execution_count": 6,
   "id": "36bf3598",
   "metadata": {},
   "outputs": [
    {
     "data": {
      "text/plain": [
       "<Figure size 800x1000 with 0 Axes>"
      ]
     },
     "metadata": {},
     "output_type": "display_data"
    }
   ],
   "source": [
    "img_path=\"../../data/raw/03_AIHUB_dataset/images/001_G1/001_G1_01_무광원_계기판_정상주시_20200917_182234_02144.jpg\"\n",
    "json_path=\"../../data/raw/03_AIHUB_dataset/labeling/001_G1/001_G1_01_무광원_계기판_정상주시_20200917_182234_02144.json\"\n",
    "\n",
    "img=cv2.imread(img_path, cv2.IMREAD_GRAYSCALE)\n",
    "img_color=cv2.cvtColor(img, cv2.COLOR_GRAY2BGR)\n",
    "\n",
    "with open(json_path, \"r\") as f:\n",
    "    data=json.load(f)\n",
    "\n",
    "leye_box=data[\"ObjectInfo\"][\"BoundingBox\"][\"Leye\"][\"Position\"]\n",
    "reye_box=data[\"ObjectInfo\"][\"BoundingBox\"][\"Reye\"][\"Position\"]\n",
    "\n",
    "# 시각화용 사각형 그리기\n",
    "cv2.rectangle(img_color, (leye_box[0], leye_box[1]),\n",
    "              (leye_box[2], leye_box[3]), (0, 255, 0), 2)  # green\n",
    "cv2.rectangle(img_color, (reye_box[0], reye_box[1]),\n",
    "              (reye_box[2], reye_box[3]), (255, 0, 0), 2)  # blue\n",
    "\n",
    "plt.figure(figsize=(8, 10))\n",
    "#plt.imshow(cv2.cvtColor(img_color, cv2.COLOR_BGR2RGB))\n",
    "plt.show()"
   ]
  },
  {
   "cell_type": "markdown",
   "id": "3a1879a4",
   "metadata": {},
   "source": []
  }
 ],
 "metadata": {
  "kernelspec": {
   "display_name": "WSL_CUDA_TF01",
   "language": "python",
   "name": "python3"
  },
  "language_info": {
   "codemirror_mode": {
    "name": "ipython",
    "version": 3
   },
   "file_extension": ".py",
   "mimetype": "text/x-python",
   "name": "python",
   "nbconvert_exporter": "python",
   "pygments_lexer": "ipython3",
   "version": "3.10.18"
  }
 },
 "nbformat": 4,
 "nbformat_minor": 5
}
