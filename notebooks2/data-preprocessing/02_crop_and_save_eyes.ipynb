{
 "cells": [
  {
   "cell_type": "code",
   "execution_count": 1,
   "id": "37f61938",
   "metadata": {},
   "outputs": [],
   "source": [
    "import os\n",
    "import json\n",
    "import cv2\n",
    "import numpy as np\n",
    "from tqdm import tqdm"
   ]
  },
  {
   "cell_type": "code",
   "execution_count": 2,
   "id": "0d3f6c6d",
   "metadata": {},
   "outputs": [],
   "source": [
    "import random\n",
    "SEED=42\n",
    "random.seed(SEED)\n",
    "np.random.seed(SEED)\n",
    "\n",
    "BASE_IMG_DIR=\"../../data/raw/03_AIHUB_dataset/images\"\n",
    "BASE_JSON_DIR=\"../../data/raw/03_AIHUB_dataset/labeling\"\n",
    "SAVE_DIR=\"../../data/processed/03_AIHUB_dataset/cropped_data\"\n",
    "\n",
    "# 크기 설정 (w, h)\n",
    "IMG_SIZE=(80, 40)\n",
    "\n",
    "# 파일명에 따라 라벨 결정\n",
    "def get_label_from_filename(filename):\n",
    "    if \"정상주시\" in filename:\n",
    "        return \"open\"\n",
    "    elif \"졸음재현\" in filename or \"하품재현\" in filename:\n",
    "        return \"closed\"\n",
    "    else:\n",
    "        return None"
   ]
  },
  {
   "cell_type": "code",
   "execution_count": 3,
   "id": "5e9e464d",
   "metadata": {},
   "outputs": [],
   "source": [
    "def process_all_images():\n",
    "    for folder in tqdm(os.listdir(BASE_IMG_DIR), desc=\"Processing folders\"):\n",
    "        folder_img_path=os.path.join(BASE_IMG_DIR, folder)\n",
    "        folder_json_path=os.path.join(BASE_JSON_DIR, folder)\n",
    "        \n",
    "        if not os.path.isdir(folder_img_path):\n",
    "            continue\n",
    "\n",
    "        for filename in os.listdir(folder_img_path):\n",
    "            if not filename.endswith(\".jpg\"):\n",
    "                continue\n",
    "\n",
    "            label=get_label_from_filename(filename)\n",
    "            if label is None:\n",
    "                continue\n",
    "\n",
    "            img_path=os.path.join(folder_img_path, filename)\n",
    "            json_path=os.path.join(folder_json_path, filename.replace(\".jpg\", \".json\"))\n",
    "\n",
    "            if not os.path.exists(json_path):\n",
    "                continue\n",
    "\n",
    "            img=cv2.imread(img_path, cv2.IMREAD_GRAYSCALE)\n",
    "            if img is None:\n",
    "                continue\n",
    "\n",
    "            with open(json_path, \"r\") as f:\n",
    "                data=json.load(f)\n",
    "\n",
    "            try:\n",
    "                leye_box=data[\"ObjectInfo\"][\"BoundingBox\"][\"Leye\"][\"Position\"]\n",
    "                reye_box=data[\"ObjectInfo\"][\"BoundingBox\"][\"Reye\"][\"Position\"]\n",
    "\n",
    "                for LorR, bbox in [(\"left\", leye_box), (\"right\", reye_box)]:\n",
    "                    x1, y1, x2, y2=bbox\n",
    "                    eye_crop=img[y1:y2, x1:x2]\n",
    "\n",
    "                    if eye_crop is None or eye_crop.size==0:\n",
    "                        continue\n",
    "\n",
    "                    eye_resized=cv2.resize(eye_crop, IMG_SIZE)\n",
    "\n",
    "                    save_dir=os.path.join(SAVE_DIR, label)\n",
    "                    os.makedirs(save_dir, exist_ok=True)\n",
    "\n",
    "                    unique_name=f\"{folder}_{filename.replace('.jpg','')}_{LorR}.jpg\"\n",
    "                    save_path=os.path.join(save_dir, unique_name)\n",
    "\n",
    "                    cv2.imwrite(save_path, eye_resized)\n",
    "\n",
    "            except KeyError:\n",
    "                continue"
   ]
  },
  {
   "cell_type": "code",
   "execution_count": 4,
   "id": "b94c5efc",
   "metadata": {},
   "outputs": [
    {
     "name": "stderr",
     "output_type": "stream",
     "text": [
      "Processing folders:   0%|          | 0/243 [00:00<?, ?it/s]"
     ]
    },
    {
     "name": "stderr",
     "output_type": "stream",
     "text": [
      "Processing folders: 100%|██████████| 243/243 [03:30<00:00,  1.15it/s]\n"
     ]
    }
   ],
   "source": [
    "process_all_images()"
   ]
  },
  {
   "cell_type": "code",
   "execution_count": 5,
   "id": "ee702257",
   "metadata": {},
   "outputs": [
    {
     "name": "stdout",
     "output_type": "stream",
     "text": [
      "Open: 95213\n",
      "Closed: 69549\n"
     ]
    }
   ],
   "source": [
    "from collections import Counter\n",
    "import os\n",
    "\n",
    "base_dir=\"../../data/processed/03_AIHUB_dataset/cropped_data\"\n",
    "open_cnt=len(os.listdir(os.path.join(base_dir, \"open\")))\n",
    "closed_cnt=len(os.listdir(os.path.join(base_dir, \"closed\")))\n",
    "\n",
    "print(\"Open:\", open_cnt)\n",
    "print(\"Closed:\", closed_cnt)"
   ]
  },
  {
   "cell_type": "code",
   "execution_count": null,
   "id": "00fa1e91",
   "metadata": {},
   "outputs": [],
   "source": []
  }
 ],
 "metadata": {
  "kernelspec": {
   "display_name": "WSL_CUDA_TF01",
   "language": "python",
   "name": "python3"
  },
  "language_info": {
   "codemirror_mode": {
    "name": "ipython",
    "version": 3
   },
   "file_extension": ".py",
   "mimetype": "text/x-python",
   "name": "python",
   "nbconvert_exporter": "python",
   "pygments_lexer": "ipython3",
   "version": "3.10.18"
  }
 },
 "nbformat": 4,
 "nbformat_minor": 5
}
