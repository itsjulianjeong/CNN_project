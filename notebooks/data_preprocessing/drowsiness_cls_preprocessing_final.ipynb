{
  "cells": [
    {
      "cell_type": "code",
      "execution_count": null,
      "metadata": {
        "colab": {
          "base_uri": "https://localhost:8080/",
          "height": 35
        },
        "id": "O3nVtThJaLup",
        "outputId": "21de01fe-a387-4266-c895-bc2f0779e76c"
      },
      "outputs": [],
      "source": [
        "import os\n",
        "import shutil\n",
        "\n",
        "BASE_PATH=\"../../data/raw/02_kaggle_dataset\"\n",
        "NEW_BASE=\"../../data/processed\"\n",
        "\n",
        "os.makedirs(os.path.join(NEW_BASE, \"closed\"), exist_ok=True)\n",
        "os.makedirs(os.path.join(NEW_BASE, \"open\"), exist_ok=True)\n",
        "\n",
        "# 기존 폴더에서 새 폴더로 복사\n",
        "shutil.move(os.path.join(BASE_PATH, \"closed_eye\"), os.path.join(NEW_BASE, \"closed\"))\n",
        "shutil.move(os.path.join(BASE_PATH, \"open_eye\"), os.path.join(NEW_BASE, \"open\"))"
      ]
    }
  ],
  "metadata": {
    "colab": {
      "provenance": []
    },
    "kernelspec": {
      "display_name": "firstENV",
      "language": "python",
      "name": "python3"
    },
    "language_info": {
      "codemirror_mode": {
        "name": "ipython",
        "version": 3
      },
      "file_extension": ".py",
      "mimetype": "text/x-python",
      "name": "python",
      "nbconvert_exporter": "python",
      "pygments_lexer": "ipython3",
      "version": "3.10.18"
    }
  },
  "nbformat": 4,
  "nbformat_minor": 0
}
