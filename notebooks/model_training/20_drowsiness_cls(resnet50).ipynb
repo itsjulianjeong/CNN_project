{
 "cells": [
  {
   "cell_type": "code",
   "execution_count": 1,
   "id": "0f2afd68",
   "metadata": {},
   "outputs": [
    {
     "name": "stderr",
     "output_type": "stream",
     "text": [
      "2025-06-17 19:56:12.396761: I tensorflow/core/util/port.cc:113] oneDNN custom operations are on. You may see slightly different numerical results due to floating-point round-off errors from different computation orders. To turn them off, set the environment variable `TF_ENABLE_ONEDNN_OPTS=0`.\n",
      "2025-06-17 19:56:12.503891: E external/local_xla/xla/stream_executor/cuda/cuda_dnn.cc:9261] Unable to register cuDNN factory: Attempting to register factory for plugin cuDNN when one has already been registered\n",
      "2025-06-17 19:56:12.503969: E external/local_xla/xla/stream_executor/cuda/cuda_fft.cc:607] Unable to register cuFFT factory: Attempting to register factory for plugin cuFFT when one has already been registered\n",
      "2025-06-17 19:56:12.518506: E external/local_xla/xla/stream_executor/cuda/cuda_blas.cc:1515] Unable to register cuBLAS factory: Attempting to register factory for plugin cuBLAS when one has already been registered\n",
      "2025-06-17 19:56:12.563815: I tensorflow/core/platform/cpu_feature_guard.cc:182] This TensorFlow binary is optimized to use available CPU instructions in performance-critical operations.\n",
      "To enable the following instructions: AVX2 AVX512F AVX512_VNNI AVX512_BF16 FMA, in other operations, rebuild TensorFlow with the appropriate compiler flags.\n",
      "2025-06-17 19:56:13.470476: W tensorflow/compiler/tf2tensorrt/utils/py_utils.cc:38] TF-TRT Warning: Could not find TensorRT\n",
      "2025-06-17 19:56:15.534256: I external/local_xla/xla/stream_executor/cuda/cuda_executor.cc:887] could not open file to read NUMA node: /sys/bus/pci/devices/0000:01:00.0/numa_node\n",
      "Your kernel may have been built without NUMA support.\n",
      "2025-06-17 19:56:16.003646: I external/local_xla/xla/stream_executor/cuda/cuda_executor.cc:887] could not open file to read NUMA node: /sys/bus/pci/devices/0000:01:00.0/numa_node\n",
      "Your kernel may have been built without NUMA support.\n",
      "2025-06-17 19:56:16.003715: I external/local_xla/xla/stream_executor/cuda/cuda_executor.cc:887] could not open file to read NUMA node: /sys/bus/pci/devices/0000:01:00.0/numa_node\n",
      "Your kernel may have been built without NUMA support.\n"
     ]
    }
   ],
   "source": [
    "import os\n",
    "import random\n",
    "import numpy as np\n",
    "import tensorflow as tf\n",
    "import matplotlib.pyplot as plt\n",
    "import seaborn as sns\n",
    "from sklearn.metrics import classification_report, confusion_matrix\n",
    "from tensorflow.keras.applications import ResNet50\n",
    "from tensorflow.keras.models import Model, Sequential\n",
    "from tensorflow.keras.layers import GlobalAveragePooling2D, Dense, Dropout\n",
    "from tensorflow.keras.callbacks import EarlyStopping, ModelCheckpoint\n",
    "\n",
    "SEED=42\n",
    "os.environ[\"PYTHONHASHSEED\"]=str(SEED)\n",
    "random.seed(SEED)\n",
    "np.random.seed(SEED)\n",
    "tf.random.set_seed(SEED)\n",
    "\n",
    "# GPU 설정\n",
    "gpus=tf.config.experimental.list_physical_devices(\"GPU\")\n",
    "if gpus:\n",
    "    try:\n",
    "        for gpu in gpus:\n",
    "            tf.config.experimental.set_memory_growth(gpu, True)\n",
    "    except RuntimeError as e:\n",
    "        print(e)"
   ]
  },
  {
   "cell_type": "code",
   "execution_count": 2,
   "id": "2d93620a",
   "metadata": {},
   "outputs": [
    {
     "name": "stdout",
     "output_type": "stream",
     "text": [
      "Found 8032 images belonging to 2 classes.\n",
      "Found 2007 images belonging to 2 classes.\n"
     ]
    }
   ],
   "source": [
    "from tensorflow.keras.preprocessing.image import ImageDataGenerator\n",
    "\n",
    "IMG_SIZE=224\n",
    "BATCH_SIZE=32\n",
    "DATA_PATH=\"../../data/processed/04_kaggle_dataset\"\n",
    "\n",
    "datagen=ImageDataGenerator(\n",
    "    rescale=1./255,\n",
    "    rotation_range=5,\n",
    "    zoom_range=0.1,\n",
    "    brightness_range=[0.8, 1.2],\n",
    "    width_shift_range=0.1,\n",
    "    height_shift_range=0.1,\n",
    "    fill_mode=\"nearest\",\n",
    "    validation_split=0.2\n",
    ")\n",
    "\n",
    "train_generator=datagen.flow_from_directory(\n",
    "    DATA_PATH,\n",
    "    target_size=(IMG_SIZE, IMG_SIZE),\n",
    "    batch_size=BATCH_SIZE,\n",
    "    color_mode=\"rgb\",\n",
    "    class_mode=\"binary\",\n",
    "    subset=\"training\",\n",
    "    shuffle=True,\n",
    "    seed=SEED\n",
    ")\n",
    "\n",
    "val_generator=datagen.flow_from_directory(\n",
    "    DATA_PATH,\n",
    "    target_size=(IMG_SIZE, IMG_SIZE),\n",
    "    batch_size=BATCH_SIZE,\n",
    "    color_mode=\"rgb\",\n",
    "    class_mode=\"binary\",\n",
    "    subset=\"validation\",\n",
    "    shuffle=False,\n",
    "    seed=SEED\n",
    ")"
   ]
  },
  {
   "cell_type": "code",
   "execution_count": 3,
   "id": "bbfc8117",
   "metadata": {},
   "outputs": [
    {
     "name": "stderr",
     "output_type": "stream",
     "text": [
      "2025-06-17 19:56:25.407565: I external/local_xla/xla/stream_executor/cuda/cuda_executor.cc:887] could not open file to read NUMA node: /sys/bus/pci/devices/0000:01:00.0/numa_node\n",
      "Your kernel may have been built without NUMA support.\n",
      "2025-06-17 19:56:25.407661: I external/local_xla/xla/stream_executor/cuda/cuda_executor.cc:887] could not open file to read NUMA node: /sys/bus/pci/devices/0000:01:00.0/numa_node\n",
      "Your kernel may have been built without NUMA support.\n",
      "2025-06-17 19:56:25.407700: I external/local_xla/xla/stream_executor/cuda/cuda_executor.cc:887] could not open file to read NUMA node: /sys/bus/pci/devices/0000:01:00.0/numa_node\n",
      "Your kernel may have been built without NUMA support.\n",
      "2025-06-17 19:56:25.608799: I external/local_xla/xla/stream_executor/cuda/cuda_executor.cc:887] could not open file to read NUMA node: /sys/bus/pci/devices/0000:01:00.0/numa_node\n",
      "Your kernel may have been built without NUMA support.\n",
      "2025-06-17 19:56:25.608921: I external/local_xla/xla/stream_executor/cuda/cuda_executor.cc:887] could not open file to read NUMA node: /sys/bus/pci/devices/0000:01:00.0/numa_node\n",
      "Your kernel may have been built without NUMA support.\n",
      "2025-06-17 19:56:25.608936: I tensorflow/core/common_runtime/gpu/gpu_device.cc:2022] Could not identify NUMA node of platform GPU id 0, defaulting to 0.  Your kernel may not have been built with NUMA support.\n",
      "2025-06-17 19:56:25.609021: I external/local_xla/xla/stream_executor/cuda/cuda_executor.cc:887] could not open file to read NUMA node: /sys/bus/pci/devices/0000:01:00.0/numa_node\n",
      "Your kernel may have been built without NUMA support.\n",
      "2025-06-17 19:56:25.609102: I tensorflow/core/common_runtime/gpu/gpu_device.cc:1929] Created device /job:localhost/replica:0/task:0/device:GPU:0 with 13689 MB memory:  -> device: 0, name: NVIDIA GeForce RTX 4060 Ti, pci bus id: 0000:01:00.0, compute capability: 8.9\n"
     ]
    }
   ],
   "source": [
    "# ResNet50 모델 정의\n",
    "base_model=ResNet50(weights=\"imagenet\", include_top=False, input_shape=(IMG_SIZE, IMG_SIZE, 3))\n",
    "base_model.trainable=False  # 전체 freeze\n",
    "\n",
    "model=Sequential([\n",
    "    base_model,\n",
    "    GlobalAveragePooling2D(),\n",
    "    Dense(128, activation=\"relu\"),\n",
    "    Dropout(0.3),\n",
    "    Dense(1, activation=\"sigmoid\")\n",
    "])\n",
    "\n",
    "model.compile(optimizer=\"adam\", loss=\"binary_crossentropy\", metrics=[\"accuracy\"])\n",
    "#model.summary()"
   ]
  },
  {
   "cell_type": "code",
   "execution_count": 4,
   "id": "ef72ad9d",
   "metadata": {},
   "outputs": [],
   "source": [
    "save_path=\"../../src/models/20_resnet50/best_model.keras\"\n",
    "os.makedirs(os.path.dirname(save_path), exist_ok=True)\n",
    "esc=EarlyStopping(monitor=\"val_loss\", patience=5, restore_best_weights=True, verbose=1)\n",
    "mcp=ModelCheckpoint(save_path, monitor=\"val_loss\", save_best_only=True, verbose=1)"
   ]
  },
  {
   "cell_type": "code",
   "execution_count": 5,
   "id": "202d5c0e",
   "metadata": {},
   "outputs": [
    {
     "name": "stdout",
     "output_type": "stream",
     "text": [
      "Epoch 1/20\n"
     ]
    },
    {
     "name": "stderr",
     "output_type": "stream",
     "text": [
      "2025-06-17 19:57:06.415248: I external/local_xla/xla/stream_executor/cuda/cuda_dnn.cc:454] Loaded cuDNN version 8907\n",
      "2025-06-17 19:57:06.617407: W external/local_xla/xla/stream_executor/gpu/asm_compiler.cc:225] Falling back to the CUDA driver for PTX compilation; ptxas does not support CC 8.9\n",
      "2025-06-17 19:57:06.617455: W external/local_xla/xla/stream_executor/gpu/asm_compiler.cc:228] Used ptxas at ptxas\n",
      "2025-06-17 19:57:06.617611: W external/local_xla/xla/stream_executor/gpu/redzone_allocator.cc:322] UNIMPLEMENTED: ptxas ptxas too old. Falling back to the driver to compile.\n",
      "Relying on driver to perform ptx compilation. \n",
      "Modify $PATH to customize ptxas location.\n",
      "This message will be only logged once.\n",
      "2025-06-17 19:57:07.770888: W tensorflow/compiler/mlir/tools/kernel_gen/transforms/gpu_kernel_to_blob_pass.cc:191] Failed to compile generated PTX with ptxas. Falling back to compilation by driver.\n",
      "2025-06-17 19:57:09.451375: W tensorflow/compiler/mlir/tools/kernel_gen/transforms/gpu_kernel_to_blob_pass.cc:191] Failed to compile generated PTX with ptxas. Falling back to compilation by driver.\n",
      "2025-06-17 19:57:09.451410: W tensorflow/compiler/mlir/tools/kernel_gen/transforms/gpu_kernel_to_blob_pass.cc:191] Failed to compile generated PTX with ptxas. Falling back to compilation by driver.\n",
      "2025-06-17 19:57:09.451424: W tensorflow/compiler/mlir/tools/kernel_gen/transforms/gpu_kernel_to_blob_pass.cc:191] Failed to compile generated PTX with ptxas. Falling back to compilation by driver.\n",
      "2025-06-17 19:57:09.451470: W tensorflow/compiler/mlir/tools/kernel_gen/transforms/gpu_kernel_to_blob_pass.cc:191] Failed to compile generated PTX with ptxas. Falling back to compilation by driver.\n",
      "2025-06-17 19:57:09.451997: W tensorflow/compiler/mlir/tools/kernel_gen/transforms/gpu_kernel_to_blob_pass.cc:191] Failed to compile generated PTX with ptxas. Falling back to compilation by driver.\n",
      "2025-06-17 19:57:09.452028: W tensorflow/compiler/mlir/tools/kernel_gen/transforms/gpu_kernel_to_blob_pass.cc:191] Failed to compile generated PTX with ptxas. Falling back to compilation by driver.\n",
      "2025-06-17 19:57:09.452125: W tensorflow/compiler/mlir/tools/kernel_gen/transforms/gpu_kernel_to_blob_pass.cc:191] Failed to compile generated PTX with ptxas. Falling back to compilation by driver.\n",
      "2025-06-17 19:57:09.452656: W tensorflow/compiler/mlir/tools/kernel_gen/transforms/gpu_kernel_to_blob_pass.cc:191] Failed to compile generated PTX with ptxas. Falling back to compilation by driver.\n",
      "2025-06-17 19:57:09.453175: W tensorflow/compiler/mlir/tools/kernel_gen/transforms/gpu_kernel_to_blob_pass.cc:191] Failed to compile generated PTX with ptxas. Falling back to compilation by driver.\n",
      "2025-06-17 19:57:09.708214: W tensorflow/compiler/mlir/tools/kernel_gen/transforms/gpu_kernel_to_blob_pass.cc:191] Failed to compile generated PTX with ptxas. Falling back to compilation by driver.\n",
      "2025-06-17 19:57:09.737720: W tensorflow/compiler/mlir/tools/kernel_gen/transforms/gpu_kernel_to_blob_pass.cc:191] Failed to compile generated PTX with ptxas. Falling back to compilation by driver.\n",
      "2025-06-17 19:57:09.769435: W tensorflow/compiler/mlir/tools/kernel_gen/transforms/gpu_kernel_to_blob_pass.cc:191] Failed to compile generated PTX with ptxas. Falling back to compilation by driver.\n",
      "2025-06-17 19:57:09.801740: W tensorflow/compiler/mlir/tools/kernel_gen/transforms/gpu_kernel_to_blob_pass.cc:191] Failed to compile generated PTX with ptxas. Falling back to compilation by driver.\n",
      "2025-06-17 19:57:09.831178: W tensorflow/compiler/mlir/tools/kernel_gen/transforms/gpu_kernel_to_blob_pass.cc:191] Failed to compile generated PTX with ptxas. Falling back to compilation by driver.\n",
      "2025-06-17 19:57:09.867842: W tensorflow/compiler/mlir/tools/kernel_gen/transforms/gpu_kernel_to_blob_pass.cc:191] Failed to compile generated PTX with ptxas. Falling back to compilation by driver.\n",
      "2025-06-17 19:57:09.902334: I external/local_xla/xla/service/service.cc:168] XLA service 0x7067dbbed8f0 initialized for platform CUDA (this does not guarantee that XLA will be used). Devices:\n",
      "2025-06-17 19:57:09.902365: I external/local_xla/xla/service/service.cc:176]   StreamExecutor device (0): NVIDIA GeForce RTX 4060 Ti, Compute Capability 8.9\n"
     ]
    },
    {
     "name": "stdout",
     "output_type": "stream",
     "text": [
      "  1/251 [..............................] - ETA: 22:10 - loss: 0.6796 - accuracy: 0.5312"
     ]
    },
    {
     "name": "stderr",
     "output_type": "stream",
     "text": [
      "2025-06-17 19:57:09.928211: I tensorflow/compiler/mlir/tensorflow/utils/dump_mlir_util.cc:269] disabling MLIR crash reproducer, set env var `MLIR_CRASH_REPRODUCER_DIRECTORY` to enable.\n",
      "2025-06-17 19:57:09.985781: W external/local_xla/xla/service/gpu/nvptx_compiler.cc:408] Couldn't read CUDA driver version.\n",
      "WARNING: All log messages before absl::InitializeLog() is called are written to STDERR\n",
      "I0000 00:00:1750157829.998475   22734 device_compiler.h:186] Compiled cluster using XLA!  This line is logged at most once for the lifetime of the process.\n"
     ]
    },
    {
     "name": "stdout",
     "output_type": "stream",
     "text": [
      "251/251 [==============================] - ETA: 0s - loss: 0.6872 - accuracy: 0.5510\n",
      "Epoch 1: val_loss improved from inf to 0.66019, saving model to ../../src/models/20_resnet50/best_model.keras\n",
      "251/251 [==============================] - 60s 218ms/step - loss: 0.6872 - accuracy: 0.5510 - val_loss: 0.6602 - val_accuracy: 0.6213\n",
      "Epoch 2/20\n",
      "251/251 [==============================] - ETA: 0s - loss: 0.6472 - accuracy: 0.6356\n",
      "Epoch 2: val_loss improved from 0.66019 to 0.61395, saving model to ../../src/models/20_resnet50/best_model.keras\n",
      "251/251 [==============================] - 50s 199ms/step - loss: 0.6472 - accuracy: 0.6356 - val_loss: 0.6140 - val_accuracy: 0.7170\n",
      "Epoch 3/20\n",
      "251/251 [==============================] - ETA: 0s - loss: 0.6074 - accuracy: 0.6799\n",
      "Epoch 3: val_loss improved from 0.61395 to 0.57442, saving model to ../../src/models/20_resnet50/best_model.keras\n",
      "251/251 [==============================] - 49s 195ms/step - loss: 0.6074 - accuracy: 0.6799 - val_loss: 0.5744 - val_accuracy: 0.7479\n",
      "Epoch 4/20\n",
      "251/251 [==============================] - ETA: 0s - loss: 0.5795 - accuracy: 0.7078\n",
      "Epoch 4: val_loss improved from 0.57442 to 0.55070, saving model to ../../src/models/20_resnet50/best_model.keras\n",
      "251/251 [==============================] - 50s 198ms/step - loss: 0.5795 - accuracy: 0.7078 - val_loss: 0.5507 - val_accuracy: 0.7349\n",
      "Epoch 5/20\n",
      "251/251 [==============================] - ETA: 0s - loss: 0.5579 - accuracy: 0.7277\n",
      "Epoch 5: val_loss improved from 0.55070 to 0.52514, saving model to ../../src/models/20_resnet50/best_model.keras\n",
      "251/251 [==============================] - 50s 198ms/step - loss: 0.5579 - accuracy: 0.7277 - val_loss: 0.5251 - val_accuracy: 0.7748\n",
      "Epoch 6/20\n",
      "251/251 [==============================] - ETA: 0s - loss: 0.5297 - accuracy: 0.7468\n",
      "Epoch 6: val_loss improved from 0.52514 to 0.51941, saving model to ../../src/models/20_resnet50/best_model.keras\n",
      "251/251 [==============================] - 50s 199ms/step - loss: 0.5297 - accuracy: 0.7468 - val_loss: 0.5194 - val_accuracy: 0.7748\n",
      "Epoch 7/20\n",
      "251/251 [==============================] - ETA: 0s - loss: 0.5033 - accuracy: 0.7699\n",
      "Epoch 7: val_loss improved from 0.51941 to 0.48745, saving model to ../../src/models/20_resnet50/best_model.keras\n",
      "251/251 [==============================] - 50s 200ms/step - loss: 0.5033 - accuracy: 0.7699 - val_loss: 0.4875 - val_accuracy: 0.7748\n",
      "Epoch 8/20\n",
      "251/251 [==============================] - ETA: 0s - loss: 0.4828 - accuracy: 0.7825\n",
      "Epoch 8: val_loss improved from 0.48745 to 0.46117, saving model to ../../src/models/20_resnet50/best_model.keras\n",
      "251/251 [==============================] - 51s 203ms/step - loss: 0.4828 - accuracy: 0.7825 - val_loss: 0.4612 - val_accuracy: 0.7823\n",
      "Epoch 9/20\n",
      "251/251 [==============================] - ETA: 0s - loss: 0.4779 - accuracy: 0.7846\n",
      "Epoch 9: val_loss did not improve from 0.46117\n",
      "251/251 [==============================] - 49s 196ms/step - loss: 0.4779 - accuracy: 0.7846 - val_loss: 0.5066 - val_accuracy: 0.7354\n",
      "Epoch 10/20\n",
      "251/251 [==============================] - ETA: 0s - loss: 0.4750 - accuracy: 0.7827\n",
      "Epoch 10: val_loss did not improve from 0.46117\n",
      "251/251 [==============================] - 50s 198ms/step - loss: 0.4750 - accuracy: 0.7827 - val_loss: 0.4824 - val_accuracy: 0.7862\n",
      "Epoch 11/20\n",
      "251/251 [==============================] - ETA: 0s - loss: 0.4577 - accuracy: 0.7986\n",
      "Epoch 11: val_loss improved from 0.46117 to 0.45322, saving model to ../../src/models/20_resnet50/best_model.keras\n",
      "251/251 [==============================] - 50s 200ms/step - loss: 0.4577 - accuracy: 0.7986 - val_loss: 0.4532 - val_accuracy: 0.8142\n",
      "Epoch 12/20\n",
      "251/251 [==============================] - ETA: 0s - loss: 0.4515 - accuracy: 0.7969\n",
      "Epoch 12: val_loss improved from 0.45322 to 0.43499, saving model to ../../src/models/20_resnet50/best_model.keras\n",
      "251/251 [==============================] - 51s 202ms/step - loss: 0.4515 - accuracy: 0.7969 - val_loss: 0.4350 - val_accuracy: 0.8186\n",
      "Epoch 13/20\n",
      "251/251 [==============================] - ETA: 0s - loss: 0.4494 - accuracy: 0.8008\n",
      "Epoch 13: val_loss improved from 0.43499 to 0.41968, saving model to ../../src/models/20_resnet50/best_model.keras\n",
      "251/251 [==============================] - 50s 200ms/step - loss: 0.4494 - accuracy: 0.8008 - val_loss: 0.4197 - val_accuracy: 0.8271\n",
      "Epoch 14/20\n",
      "251/251 [==============================] - ETA: 0s - loss: 0.4395 - accuracy: 0.8071\n",
      "Epoch 14: val_loss did not improve from 0.41968\n",
      "251/251 [==============================] - 51s 202ms/step - loss: 0.4395 - accuracy: 0.8071 - val_loss: 0.4201 - val_accuracy: 0.8102\n",
      "Epoch 15/20\n",
      "251/251 [==============================] - ETA: 0s - loss: 0.4386 - accuracy: 0.8030\n",
      "Epoch 15: val_loss improved from 0.41968 to 0.41572, saving model to ../../src/models/20_resnet50/best_model.keras\n",
      "251/251 [==============================] - 50s 199ms/step - loss: 0.4386 - accuracy: 0.8030 - val_loss: 0.4157 - val_accuracy: 0.8097\n",
      "Epoch 16/20\n",
      "251/251 [==============================] - ETA: 0s - loss: 0.4431 - accuracy: 0.8014\n",
      "Epoch 16: val_loss did not improve from 0.41572\n",
      "251/251 [==============================] - 50s 199ms/step - loss: 0.4431 - accuracy: 0.8014 - val_loss: 0.4253 - val_accuracy: 0.8002\n",
      "Epoch 17/20\n",
      "251/251 [==============================] - ETA: 0s - loss: 0.4395 - accuracy: 0.8047\n",
      "Epoch 17: val_loss did not improve from 0.41572\n",
      "251/251 [==============================] - 50s 197ms/step - loss: 0.4395 - accuracy: 0.8047 - val_loss: 0.5521 - val_accuracy: 0.6921\n",
      "Epoch 18/20\n",
      "251/251 [==============================] - ETA: 0s - loss: 0.4292 - accuracy: 0.8079\n",
      "Epoch 18: val_loss did not improve from 0.41572\n",
      "251/251 [==============================] - 50s 199ms/step - loss: 0.4292 - accuracy: 0.8079 - val_loss: 0.4464 - val_accuracy: 0.7972\n",
      "Epoch 19/20\n",
      "251/251 [==============================] - ETA: 0s - loss: 0.4280 - accuracy: 0.8110\n",
      "Epoch 19: val_loss did not improve from 0.41572\n",
      "251/251 [==============================] - 49s 197ms/step - loss: 0.4280 - accuracy: 0.8110 - val_loss: 0.4161 - val_accuracy: 0.8102\n",
      "Epoch 20/20\n",
      "251/251 [==============================] - ETA: 0s - loss: 0.4234 - accuracy: 0.8141\n",
      "Epoch 20: val_loss improved from 0.41572 to 0.40978, saving model to ../../src/models/20_resnet50/best_model.keras\n",
      "251/251 [==============================] - 50s 201ms/step - loss: 0.4234 - accuracy: 0.8141 - val_loss: 0.4098 - val_accuracy: 0.8132\n"
     ]
    }
   ],
   "source": [
    "history=model.fit(train_generator, validation_data=val_generator,\n",
    "                  epochs=20, callbacks=[esc, mcp])"
   ]
  },
  {
   "cell_type": "markdown",
   "id": "291a06a7",
   "metadata": {},
   "source": [
    "# 파인튜닝"
   ]
  },
  {
   "cell_type": "code",
   "execution_count": 10,
   "id": "0f116498",
   "metadata": {},
   "outputs": [],
   "source": [
    "from tensorflow.keras.optimizers import Adam\n",
    "\n",
    "base_model=ResNet50(include_top=False, weights=\"imagenet\", input_shape=(224, 224, 3))\n",
    "\n",
    "# 기존 layer들을 모두 학습 가능하도록 설정\n",
    "for layer in base_model.layers:\n",
    "    layer.trainable=True\n",
    "\n",
    "x=base_model.output\n",
    "x=GlobalAveragePooling2D()(x)\n",
    "x=Dense(512, activation=\"relu\")(x)\n",
    "x=Dropout(0.3)(x)\n",
    "output=Dense(1, activation=\"sigmoid\")(x)\n",
    "\n",
    "finetuned_model=Model(inputs=base_model.input, outputs=output)\n",
    "finetuned_model.compile(optimizer=Adam(learning_rate=1e-5), loss=\"binary_crossentropy\", metrics=[\"accuracy\"])"
   ]
  },
  {
   "cell_type": "code",
   "execution_count": 11,
   "id": "0820e78f",
   "metadata": {},
   "outputs": [],
   "source": [
    "from tensorflow.keras.callbacks import ModelCheckpoint, EarlyStopping, ReduceLROnPlateau\n",
    "\n",
    "model_path=\"../../src/models/20_resnet50/resnet50_finetuned_best_model.keras\"\n",
    "\n",
    "mcp=ModelCheckpoint(model_path, monitor=\"val_loss\", save_best_only=True, verbose=1)\n",
    "es=EarlyStopping(monitor=\"val_loss\", patience=5, restore_best_weights=True, verbose=1)\n",
    "reducelr=ReduceLROnPlateau(monitor=\"val_loss\", factor=0.5, patience=2, verbose=1)"
   ]
  },
  {
   "cell_type": "code",
   "execution_count": 12,
   "id": "4f83fb9d",
   "metadata": {},
   "outputs": [
    {
     "name": "stdout",
     "output_type": "stream",
     "text": [
      "Epoch 1/20\n",
      "251/251 [==============================] - ETA: 0s - loss: 0.2229 - accuracy: 0.9143\n",
      "Epoch 1: val_loss improved from inf to 0.79212, saving model to ../../src/models/20_resnet50/resnet50_finetuned_best_model.keras\n",
      "251/251 [==============================] - 83s 248ms/step - loss: 0.2229 - accuracy: 0.9143 - val_loss: 0.7921 - val_accuracy: 0.4983 - lr: 1.0000e-05\n",
      "Epoch 2/20\n",
      "251/251 [==============================] - ETA: 0s - loss: 0.1249 - accuracy: 0.9584\n",
      "Epoch 2: val_loss did not improve from 0.79212\n",
      "251/251 [==============================] - 59s 232ms/step - loss: 0.1249 - accuracy: 0.9584 - val_loss: 1.1021 - val_accuracy: 0.4983 - lr: 1.0000e-05\n",
      "Epoch 3/20\n",
      "251/251 [==============================] - ETA: 0s - loss: 0.1017 - accuracy: 0.9653\n",
      "Epoch 3: val_loss did not improve from 0.79212\n",
      "\n",
      "Epoch 3: ReduceLROnPlateau reducing learning rate to 4.999999873689376e-06.\n",
      "251/251 [==============================] - 58s 232ms/step - loss: 0.1017 - accuracy: 0.9653 - val_loss: 1.0472 - val_accuracy: 0.5247 - lr: 1.0000e-05\n",
      "Epoch 4/20\n",
      "251/251 [==============================] - ETA: 0s - loss: 0.0910 - accuracy: 0.9654\n",
      "Epoch 4: val_loss improved from 0.79212 to 0.22039, saving model to ../../src/models/20_resnet50/resnet50_finetuned_best_model.keras\n",
      "251/251 [==============================] - 60s 237ms/step - loss: 0.0910 - accuracy: 0.9654 - val_loss: 0.2204 - val_accuracy: 0.9243 - lr: 5.0000e-06\n",
      "Epoch 5/20\n",
      "251/251 [==============================] - ETA: 0s - loss: 0.0844 - accuracy: 0.9686\n",
      "Epoch 5: val_loss improved from 0.22039 to 0.09948, saving model to ../../src/models/20_resnet50/resnet50_finetuned_best_model.keras\n",
      "251/251 [==============================] - 60s 238ms/step - loss: 0.0844 - accuracy: 0.9686 - val_loss: 0.0995 - val_accuracy: 0.9661 - lr: 5.0000e-06\n",
      "Epoch 6/20\n",
      "251/251 [==============================] - ETA: 0s - loss: 0.0802 - accuracy: 0.9704\n",
      "Epoch 6: val_loss improved from 0.09948 to 0.09333, saving model to ../../src/models/20_resnet50/resnet50_finetuned_best_model.keras\n",
      "251/251 [==============================] - 60s 238ms/step - loss: 0.0802 - accuracy: 0.9704 - val_loss: 0.0933 - val_accuracy: 0.9656 - lr: 5.0000e-06\n",
      "Epoch 7/20\n",
      "251/251 [==============================] - ETA: 0s - loss: 0.0674 - accuracy: 0.9730\n",
      "Epoch 7: val_loss did not improve from 0.09333\n",
      "251/251 [==============================] - 58s 232ms/step - loss: 0.0674 - accuracy: 0.9730 - val_loss: 0.1001 - val_accuracy: 0.9676 - lr: 5.0000e-06\n",
      "Epoch 8/20\n",
      "251/251 [==============================] - ETA: 0s - loss: 0.0618 - accuracy: 0.9750\n",
      "Epoch 8: val_loss did not improve from 0.09333\n",
      "\n",
      "Epoch 8: ReduceLROnPlateau reducing learning rate to 2.499999936844688e-06.\n",
      "251/251 [==============================] - 61s 243ms/step - loss: 0.0618 - accuracy: 0.9750 - val_loss: 0.1132 - val_accuracy: 0.9611 - lr: 5.0000e-06\n",
      "Epoch 9/20\n",
      "251/251 [==============================] - ETA: 0s - loss: 0.0586 - accuracy: 0.9778\n",
      "Epoch 9: val_loss did not improve from 0.09333\n",
      "251/251 [==============================] - 61s 242ms/step - loss: 0.0586 - accuracy: 0.9778 - val_loss: 0.1133 - val_accuracy: 0.9621 - lr: 2.5000e-06\n",
      "Epoch 10/20\n",
      "251/251 [==============================] - ETA: 0s - loss: 0.0519 - accuracy: 0.9798\n",
      "Epoch 10: val_loss did not improve from 0.09333\n",
      "\n",
      "Epoch 10: ReduceLROnPlateau reducing learning rate to 1.249999968422344e-06.\n",
      "251/251 [==============================] - 64s 253ms/step - loss: 0.0519 - accuracy: 0.9798 - val_loss: 0.1196 - val_accuracy: 0.9581 - lr: 2.5000e-06\n",
      "Epoch 11/20\n",
      "251/251 [==============================] - ETA: 0s - loss: 0.0495 - accuracy: 0.9801\n",
      "Epoch 11: val_loss did not improve from 0.09333\n",
      "Restoring model weights from the end of the best epoch: 6.\n",
      "251/251 [==============================] - 117s 465ms/step - loss: 0.0495 - accuracy: 0.9801 - val_loss: 0.1285 - val_accuracy: 0.9512 - lr: 1.2500e-06\n",
      "Epoch 11: early stopping\n"
     ]
    }
   ],
   "source": [
    "history=finetuned_model.fit(train_generator, validation_data=val_generator,\n",
    "                            epochs=20, callbacks=[mcp, es, reducelr])"
   ]
  },
  {
   "cell_type": "code",
   "execution_count": null,
   "id": "8ae11fba",
   "metadata": {},
   "outputs": [
    {
     "data": {
      "image/png": "[encoded data removed]",
      "text/plain": [
       "<Figure size 1200x500 with 2 Axes>"
      ]
     },
     "metadata": {},
     "output_type": "display_data"
    }
   ],
   "source": [
    "plt.figure(figsize=(12, 5))\n",
    "\n",
    "plt.subplot(1, 2, 1)\n",
    "plt.plot(history.history[\"accuracy\"], label=\"Train Accuracy\")\n",
    "plt.plot(history.history[\"val_accuracy\"], label=\"Validation Accuracy\")\n",
    "plt.title(\"Accuracy\")\n",
    "plt.xlabel(\"Epoch\")\n",
    "plt.ylabel(\"Accuracy\")\n",
    "plt.legend()\n",
    "\n",
    "plt.subplot(1, 2, 2)\n",
    "plt.plot(history.history[\"loss\"], label=\"Train Loss\")\n",
    "plt.plot(history.history[\"val_loss\"], label=\"Validation Loss\")\n",
    "plt.title(\"Loss\")\n",
    "plt.xlabel(\"Epoch\")\n",
    "plt.ylabel(\"Loss\")\n",
    "plt.legend()\n",
    "\n",
    "plt.tight_layout()\n",
    "#plt.savefig(\"../../results/images/20_resnet_finetuned_training_plot.png\")\n",
    "plt.show()"
   ]
  },
  {
   "cell_type": "code",
   "execution_count": null,
   "id": "50ab2e11",
   "metadata": {},
   "outputs": [
    {
     "name": "stdout",
     "output_type": "stream",
     "text": [
      "=== Classification Report ===\n",
      "              precision    recall  f1-score   support\n",
      "\n",
      "      closed       0.76      0.91      0.83      1000\n",
      "        open       0.89      0.72      0.80      1007\n",
      "\n",
      "    accuracy                           0.81      2007\n",
      "   macro avg       0.83      0.81      0.81      2007\n",
      "weighted avg       0.83      0.81      0.81      2007\n",
      "\n"
     ]
    }
   ],
   "source": [
    "y_true=val_generator.classes\n",
    "steps=val_generator.samples // val_generator.batch_size + 1\n",
    "y_pred_prob=model.predict(val_generator, steps=steps, verbose=0)\n",
    "y_pred=(y_pred_prob > 0.5).astype(int)\n",
    "\n",
    "report=classification_report(y_true, y_pred, target_names=[\"closed\", \"open\"])\n",
    "print(\"=== Classification Report ===\")\n",
    "print(report)\n",
    "\n",
    "# report_path=\"../../results/reports/20_resnet50_finetuned_classification_report.txt\"\n",
    "# with open(report_path, \"w\") as f:\n",
    "#     f.write(report)"
   ]
  },
  {
   "cell_type": "code",
   "execution_count": null,
   "id": "f55feef6",
   "metadata": {},
   "outputs": [
    {
     "data": {
      "image/png": "[encoded data removed]",
      "text/plain": [
       "<Figure size 500x400 with 2 Axes>"
      ]
     },
     "metadata": {},
     "output_type": "display_data"
    }
   ],
   "source": [
    "conf_matrix = confusion_matrix(y_true, y_pred)\n",
    "plt.figure(figsize=(5, 4))\n",
    "sns.heatmap(conf_matrix, annot=True, fmt=\"d\", cmap=\"Reds\",\n",
    "            xticklabels=[\"closed\", \"open\"], yticklabels=[\"closed\", \"open\"])\n",
    "plt.xlabel(\"Pred\")\n",
    "plt.ylabel(\"Real\")\n",
    "plt.tight_layout()\n",
    "# plt.savefig(\"../../results/images/20_resnet50finetuned_confusion_matrix.png\")\n",
    "plt.show()"
   ]
  },
  {
   "cell_type": "code",
   "execution_count": null,
   "id": "9cf522fd",
   "metadata": {},
   "outputs": [],
   "source": []
  }
 ],
 "metadata": {
  "kernelspec": {
   "display_name": "WSL_CUDA_TF01",
   "language": "python",
   "name": "python3"
  },
  "language_info": {
   "codemirror_mode": {
    "name": "ipython",
    "version": 3
   },
   "file_extension": ".py",
   "mimetype": "text/x-python",
   "name": "python",
   "nbconvert_exporter": "python",
   "pygments_lexer": "ipython3",
   "version": "3.10.18"
  }
 },
 "nbformat": 4,
 "nbformat_minor": 5
}
