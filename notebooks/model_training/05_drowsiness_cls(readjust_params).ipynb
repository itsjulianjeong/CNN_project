{
 "cells": [
  {
   "cell_type": "markdown",
   "id": "cb595bed",
   "metadata": {},
   "source": [
    "# 결과 미리 요약\n",
    "- Val acc: 96.43  \n",
    "- classification report acc: 97.00  \n",
    "- Precision/Recall: 0.96~0.97  \n",
    "- conf_matrix: FN 180, FP 145  \n",
    "- Val loss min: 0.1775  \n",
    "- 그래프:  \n",
    "  - 진동: 일부 튐 -> 최종 수렴으로 안정적  \n",
    "    튀는 이유는 generator 또는 batch 구성 이슈일 가능성  \n",
    "    -> validation_generator.samples가 batch_size * steps 보다 부족한 경우 발생함  \n",
    "  - Epoch 8에서 튀었지만 빠르게 회복 -> Regularization, Dropout 작용  \n",
    "  - 마지막 Epoch에서 val loss min값 도출  \n",
    "\n",
    "- 다음 진행:\n",
    "  - 이 모델을 baseline으로 이후  \n",
    "  - dropout 위치 다양화  \n",
    "  - Conv Layer 추가해보기  "
   ]
  },
  {
   "cell_type": "code",
   "execution_count": 1,
   "id": "f9cb3843",
   "metadata": {},
   "outputs": [],
   "source": [
    "import os\n",
    "import random\n",
    "import numpy as np\n",
    "import tensorflow as tf\n",
    "\n",
    "SEED=42\n",
    "os.environ[\"PYTHONHASHSEED\"]=str(SEED)\n",
    "random.seed(SEED)\n",
    "np.random.seed(SEED)\n",
    "tf.random.set_seed(SEED)"
   ]
  },
  {
   "cell_type": "code",
   "execution_count": 2,
   "id": "6f169ede",
   "metadata": {},
   "outputs": [],
   "source": [
    "# GPU 설정\n",
    "gpus=tf.config.experimental.list_physical_devices(\"GPU\")\n",
    "if gpus:\n",
    "    try:\n",
    "        for gpu in gpus:\n",
    "            tf.config.experimental.set_memory_growth(gpu, True)\n",
    "    except RuntimeError as e:\n",
    "        print(e)"
   ]
  },
  {
   "cell_type": "code",
   "execution_count": 3,
   "id": "a903956c",
   "metadata": {},
   "outputs": [],
   "source": [
    "import matplotlib.pyplot as plt\n",
    "import seaborn as sns\n",
    "from sklearn.metrics import classification_report, confusion_matrix\n",
    "from tensorflow.keras.models import Sequential\n",
    "from tensorflow.keras.layers import Conv2D, MaxPooling2D, Flatten, Dense, Dropout, BatchNormalization\n",
    "from tensorflow.keras.optimizers import Adam\n",
    "from tensorflow.keras.regularizers import l2\n",
    "from tensorflow.keras.preprocessing.image import ImageDataGenerator\n",
    "from tensorflow.keras.callbacks import EarlyStopping"
   ]
  },
  {
   "cell_type": "code",
   "execution_count": 4,
   "id": "9b376c79",
   "metadata": {},
   "outputs": [
    {
     "name": "stdout",
     "output_type": "stream",
     "text": [
      "Found 38400 images belonging to 2 classes.\n",
      "Found 9600 images belonging to 2 classes.\n"
     ]
    }
   ],
   "source": [
    "IMG_SIZE=86\n",
    "BATCH_SIZE=32\n",
    "DATA_PATH=\"../../data/processed/02_kaggle_dataset/train\"\n",
    "\n",
    "datagen=ImageDataGenerator(\n",
    "    rescale=1./255,\n",
    "    brightness_range=[0.7, 1.3],\n",
    "    rotation_range=10,\n",
    "    zoom_range=0.1,\n",
    "    width_shift_range=0.1,\n",
    "    height_shift_range=0.1,\n",
    "    fill_mode=\"nearest\",\n",
    "    horizontal_flip=False,\n",
    "    validation_split=0.2\n",
    ")\n",
    "\n",
    "train_generator=datagen.flow_from_directory(\n",
    "    DATA_PATH,\n",
    "    target_size=(IMG_SIZE, IMG_SIZE),\n",
    "    color_mode=\"grayscale\",\n",
    "    batch_size=BATCH_SIZE,\n",
    "    class_mode=\"binary\",\n",
    "    subset=\"training\",\n",
    "    shuffle=True,\n",
    "    seed=SEED\n",
    ")\n",
    "\n",
    "val_generator=datagen.flow_from_directory(\n",
    "    DATA_PATH,\n",
    "    target_size=(IMG_SIZE, IMG_SIZE),\n",
    "    color_mode=\"grayscale\",\n",
    "    batch_size=BATCH_SIZE,\n",
    "    class_mode=\"binary\",\n",
    "    subset=\"validation\",\n",
    "    shuffle=False\n",
    ")"
   ]
  },
  {
   "cell_type": "code",
   "execution_count": 5,
   "id": "fc24b3c8",
   "metadata": {},
   "outputs": [],
   "source": [
    "# Dropout 증가 + L2 + Dense 노드 축소\n",
    "model=Sequential([\n",
    "    Conv2D(64, 3, activation=\"relu\", input_shape=(IMG_SIZE, IMG_SIZE, 1)),\n",
    "    BatchNormalization(),\n",
    "    MaxPooling2D(2),\n",
    "\n",
    "    Conv2D(96, 3, activation=\"relu\"),\n",
    "    BatchNormalization(),\n",
    "    MaxPooling2D(2),\n",
    "\n",
    "    Flatten(),\n",
    "    Dense(32, activation=\"relu\", kernel_regularizer=l2(0.001)),  # Dense 노드 축소 + 정규화\n",
    "    Dropout(0.4),  # Dropout 증가\n",
    "    Dense(1, activation=\"sigmoid\")\n",
    "])\n",
    "\n",
    "model.compile(optimizer=Adam(learning_rate=0.0005),\n",
    "            loss=\"binary_crossentropy\", metrics=[\"accuracy\"])"
   ]
  },
  {
   "cell_type": "code",
   "execution_count": null,
   "id": "ccb3a926",
   "metadata": {},
   "outputs": [
    {
     "name": "stdout",
     "output_type": "stream",
     "text": [
      "Epoch 1/20\n",
      " 778/1200 [==================>...........] - ETA: 54s - loss: 0.4860 - accuracy: 0.8650    "
     ]
    }
   ],
   "source": [
    "history=model.fit(train_generator, validation_data=val_generator,\n",
    "                epochs=20, verbose=1)"
   ]
  },
  {
   "cell_type": "code",
   "execution_count": null,
   "id": "45e7a3f7",
   "metadata": {},
   "outputs": [],
   "source": [
    "plt.figure(figsize=(12, 5))\n",
    "\n",
    "plt.subplot(1, 2, 1)\n",
    "plt.plot(history.history[\"accuracy\"], label=\"Train Accuracy\")\n",
    "plt.plot(history.history[\"val_accuracy\"], label=\"Validation Accuracy\")\n",
    "plt.title(\"Accuracy\")\n",
    "plt.xlabel(\"Epoch\")\n",
    "plt.ylabel(\"Accuracy\")\n",
    "plt.legend()\n",
    "\n",
    "plt.subplot(1, 2, 2)\n",
    "plt.plot(history.history[\"loss\"], label=\"Train Loss\")\n",
    "plt.plot(history.history[\"val_loss\"], label=\"Validation Loss\")\n",
    "plt.title(\"Loss\")\n",
    "plt.xlabel(\"Epoch\")\n",
    "plt.ylabel(\"Loss\")\n",
    "plt.legend()\n",
    "\n",
    "plt.tight_layout()\n",
    "plt.savefig(\"../../results/images/02_readjusted_training_plot.png\")\n",
    "plt.show()"
   ]
  },
  {
   "cell_type": "code",
   "execution_count": null,
   "id": "47c53029",
   "metadata": {},
   "outputs": [
    {
     "name": "stdout",
     "output_type": "stream",
     "text": [
      "WARNING:tensorflow:Your input ran out of data; interrupting training. Make sure that your dataset or generator can generate at least `steps_per_epoch * epochs` batches (in this case, 301 batches). You may need to use the repeat() function when building your dataset.\n",
      "              precision    recall  f1-score   support\n",
      "\n",
      "      closed       0.96      0.97      0.97      4800\n",
      "        open       0.97      0.96      0.97      4800\n",
      "\n",
      "    accuracy                           0.97      9600\n",
      "   macro avg       0.97      0.97      0.97      9600\n",
      "weighted avg       0.97      0.97      0.97      9600\n",
      "\n"
     ]
    },
    {
     "data": {
      "image/png": "[encoded data removed]",
      "text/plain": [
       "<Figure size 500x400 with 2 Axes>"
      ]
     },
     "metadata": {},
     "output_type": "display_data"
    }
   ],
   "source": [
    "from sklearn.metrics import classification_report, confusion_matrix\n",
    "import seaborn as sns\n",
    "\n",
    "y_true=val_generator.classes\n",
    "steps=val_generator.samples // val_generator.batch_size + 1\n",
    "y_pred_prob=model.predict(val_generator, steps=steps, verbose=0)\n",
    "y_pred=(y_pred_prob > 0.5).astype(int)\n",
    "\n",
    "# classification report\n",
    "report=classification_report(y_true, y_pred, target_names=[\"closed\", \"open\"])\n",
    "print(report)\n",
    "with open(\"../../results/reports/02_readjusted_classification_report.txt\", \"w\") as f:\n",
    "    f.write(report)\n",
    "\n",
    "# confusion matrix\n",
    "conf_matirx=confusion_matrix(y_true, y_pred)\n",
    "plt.figure(figsize=(5, 4))\n",
    "sns.heatmap(conf_matirx, annot=True, fmt=\"d\", cmap=\"Reds\",\n",
    "            xticklabels=[\"closed\", \"open\"], yticklabels=[\"closed\", \"open\"])\n",
    "plt.xlabel(\"Pred\")\n",
    "plt.ylabel(\"Real\")\n",
    "plt.tight_layout()\n",
    "plt.savefig(\"../../results/images/02_readjusted_confusion_matrix.png\")\n",
    "plt.show()"
   ]
  },
  {
   "cell_type": "code",
   "execution_count": 9,
   "id": "f38ef64c",
   "metadata": {},
   "outputs": [],
   "source": [
    "os.makedirs(\"../../src/models/05_Readjust_Model\", exist_ok=True)\n",
    "model.save(\"../../src/models/05_Readjust_Model/readjusted_model.keras\")"
   ]
  },
  {
   "cell_type": "markdown",
   "id": "16ac7d4d",
   "metadata": {},
   "source": []
  }
 ],
 "metadata": {
  "kernelspec": {
   "display_name": "Python (tf210_310)",
   "language": "python",
   "name": "tf210_310"
  },
  "language_info": {
   "codemirror_mode": {
    "name": "ipython",
    "version": 3
   },
   "file_extension": ".py",
   "mimetype": "text/x-python",
   "name": "python",
   "nbconvert_exporter": "python",
   "pygments_lexer": "ipython3",
   "version": "3.10.13"
  }
 },
 "nbformat": 4,
 "nbformat_minor": 5
}
