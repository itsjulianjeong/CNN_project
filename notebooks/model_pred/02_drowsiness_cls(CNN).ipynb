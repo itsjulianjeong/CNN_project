{
 "cells": [
  {
   "cell_type": "code",
   "execution_count": null,
   "id": "39268c5e",
   "metadata": {},
   "outputs": [],
   "source": [
    "import numpy as np\n",
    "import random\n",
    "from sklearn.metrics import classification_report\n",
    "from tensorflow.keras.models import Sequential\n",
    "from tensorflow.keras.layers import Conv2D, MaxPooling2D, Flatten, Dense, Dropout, BatchNormalization\n",
    "from tensorflow.keras.optimizers import Adam\n",
    "from tensorflow.keras.preprocessing.image import ImageDataGenerator\n",
    "from tensorflow.keras.callbacks import EarlyStopping\n",
    "\n",
    "import matplotlib.pyplot as plt\n",
    "import matplotlib.font_manager as fm\n",
    "plt.rcParams[\"font.family\"]=\"Malgun Gothic\"\n",
    "plt.rcParams[\"axes.unicode_minus\"]=False"
   ]
  },
  {
   "cell_type": "code",
   "execution_count": null,
   "id": "2aedb39b",
   "metadata": {},
   "outputs": [],
   "source": [
    "IMG_SIZE=86\n",
    "BATCH_SIZE=16\n",
    "SEED=42\n",
    "DATA_PATH=\"../../data/processed/02_kaggle_dataset/train\"\n",
    "\n",
    "datagen = ImageDataGenerator(\n",
    "    rescale=1./255,\n",
    "    brightness_range=[0.7, 1.3],\n",
    "    rotation_range=10,\n",
    "    zoom_range=0.1,\n",
    "    width_shift_range=0.1,\n",
    "    height_shift_range=0.1,\n",
    "    horizontal_flip=True,\n",
    "    fill_mode='nearest',\n",
    "    validation_split=0.2\n",
    ")\n",
    "\n",
    "train_generator = datagen.flow_from_directory(\n",
    "    directory=DATA_PATH,\n",
    "    target_size=(IMG_SIZE, IMG_SIZE),\n",
    "    color_mode=\"grayscale\",\n",
    "    batch_size=BATCH_SIZE,\n",
    "    class_mode=\"binary\",\n",
    "    subset=\"training\",\n",
    "    shuffle=True,\n",
    "    seed=SEED\n",
    ")\n",
    "\n",
    "val_generator = datagen.flow_from_directory(\n",
    "    directory=DATA_PATH,\n",
    "    target_size=(IMG_SIZE, IMG_SIZE),\n",
    "    color_mode=\"grayscale\",\n",
    "    batch_size=BATCH_SIZE,\n",
    "    class_mode=\"binary\",\n",
    "    subset=\"validation\",\n",
    "    shuffle=False\n",
    ")"
   ]
  },
  {
   "cell_type": "code",
   "execution_count": null,
   "id": "cc45372e",
   "metadata": {},
   "outputs": [],
   "source": [
    "model = Sequential()\n",
    "model.add(Conv2D(32, 3, activation='relu', input_shape=(IMG_SIZE, IMG_SIZE, 1)))\n",
    "model.add(BatchNormalization())\n",
    "model.add(MaxPooling2D(2))\n",
    "\n",
    "model.add(Conv2D(96, 3, activation='relu'))\n",
    "model.add(BatchNormalization())\n",
    "model.add(MaxPooling2D(2))\n",
    "\n",
    "model.add(Flatten())\n",
    "model.add(Dense(64, activation='relu'))\n",
    "model.add(Dropout(0.3))\n",
    "model.add(Dense(1, activation='sigmoid'))\n",
    "\n",
    "model.compile(optimizer=Adam(learning_rate=0.00027600388247395235),\n",
    "            loss='binary_crossentropy', metrics=['accuracy'])"
   ]
  },
  {
   "cell_type": "code",
   "execution_count": null,
   "id": "9664933c",
   "metadata": {},
   "outputs": [],
   "source": [
    "esc=EarlyStopping(monitor=\"val_loss\", patience=5, restore_best_weights=True)\n",
    "\n",
    "history=model.fit(train_generator, validation_data=val_generator,\n",
    "                epochs=20, callbacks=[esc], verbose=1)"
   ]
  },
  {
   "cell_type": "code",
   "execution_count": null,
   "id": "6331f93b",
   "metadata": {},
   "outputs": [],
   "source": [
    "plt.figure(figsize=(12, 5))\n",
    "\n",
    "# ACC\n",
    "plt.subplot(1, 2, 1)\n",
    "plt.plot(history.history['accuracy'], label='Train Accuracy')\n",
    "plt.plot(history.history['val_accuracy'], label='Val Accuracy')\n",
    "plt.title(\"Accuracy over Epochs\")\n",
    "plt.xlabel(\"Epoch\")\n",
    "plt.ylabel(\"Accuracy\")\n",
    "plt.legend()\n",
    "plt.grid(True)\n",
    "\n",
    "# Loss\n",
    "plt.subplot(1, 2, 2)\n",
    "plt.plot(history.history['loss'], label='Train Loss')\n",
    "plt.plot(history.history['val_loss'], label='Val Loss')\n",
    "plt.title(\"Loss over Epochs\")\n",
    "plt.xlabel(\"Epoch\")\n",
    "plt.ylabel(\"Loss\")\n",
    "plt.legend()\n",
    "plt.grid(True)\n",
    "\n",
    "plt.tight_layout()\n",
    "plt.savefig(\"../../results/images/training_plot.png\")\n",
    "plt.show()"
   ]
  },
  {
   "cell_type": "code",
   "execution_count": null,
   "id": "3fadfc67",
   "metadata": {},
   "outputs": [],
   "source": [
    "from sklearn.metrics import classification_report\n",
    "\n",
    "y_true=val_generator.classes\n",
    "steps=val_generator.samples // val_generator.batch_size + 1\n",
    "y_pred_prob=model.predict(val_generator, steps=steps, verbose=0)\n",
    "y_pred=(y_pred_prob > 0.5).astype(int)\n",
    "\n",
    "report=classification_report(y_true, y_pred, target_names=[\"closed\", \"open\"])\n",
    "print(report)\n",
    "\n",
    "with open(\"../../results/reports/classification_report.txt\", \"w\") as f:\n",
    "    f.write(report)"
   ]
  },
  {
   "cell_type": "code",
   "execution_count": null,
   "id": "5a59201e",
   "metadata": {},
   "outputs": [],
   "source": [
    "class_names=list(val_generator.class_indices.keys())  # closed, open\n",
    "indices=random.sample(range(len(y_true)), 10)  # 전체 val 데이터 중 10개 무작위 인덱스 선택\n",
    "\n",
    "plt.figure(figsize=(15, 5))\n",
    "for i, idx in enumerate(indices):  # 10개 인덱스에 대해 하나씩 처리\n",
    "    batch_idx=idx // BATCH_SIZE  # 인덱스가 몇 번째 배치에 속해 있는지 계산\n",
    "    offset=idx % BATCH_SIZE  # 해당 배치 내에서의 위치 계산\n",
    "\n",
    "    val_generator.reset()  # generator 처음부터 리셋해서 배치 인덱스까지 이동\n",
    "    for _ in range(batch_idx+1):  # 항상 같은 순서로 시작하기 위해 초기화\n",
    "        images, _=next(val_generator)  # 원하는 배치까지 이동\n",
    "\n",
    "    img=images[offset].squeeze()  # 해당 배치에서 원하는 이미지 하나 꺼내기(squeeze: 86, 86, 1 -> 86, 86)\n",
    "    true_label=class_names[int(y_true[idx])]  # real\n",
    "    pred_label=class_names[int(y_pred[idx])]  # pred\n",
    "\n",
    "    plt.subplot(2, 5, i+1)\n",
    "    plt.imshow(img, cmap=\"gray\")\n",
    "    plt.title(f\"실제: {true_label} / 예측: {pred_label}\")\n",
    "    plt.axis(\"off\")\n",
    "\n",
    "plt.tight_layout()\n",
    "plt.show()"
   ]
  },
  {
   "cell_type": "code",
   "execution_count": null,
   "id": "6cbaf581",
   "metadata": {},
   "outputs": [],
   "source": [
    "from sklearn.metrics import confusion_matrix\n",
    "\n",
    "# 혼동 행렬\n",
    "cm=confusion_matrix(y_true, y_pred)\n",
    "\n",
    "plt.figure(figsize=(5, 4))\n",
    "sns.heatmap(cm, annot=True, fmt=\"d\", cmap=\"Reds\", xticklabels=class_names, yticklabels=class_names)\n",
    "plt.xlabel(\"예측 라벨\")\n",
    "plt.ylabel(\"실제 라벨\")\n",
    "plt.title(\"Confusion Matrix\")\n",
    "plt.tight_layout()\n",
    "plt.savefig(\"../../results/images/confusion_matrix.png\")\n",
    "plt.show()"
   ]
  },
  {
   "cell_type": "code",
   "execution_count": null,
   "id": "b7157d80",
   "metadata": {},
   "outputs": [],
   "source": [
    "model_path=\"../../src/models/02_Basic_Model/final_model_from_tuner.keras\"\n",
    "model.save(model_path)\n",
    "print(f\"최종 모델 저장 완료: {model_path}\")"
   ]
  },
  {
   "cell_type": "code",
   "execution_count": null,
   "id": "cb47d6a6",
   "metadata": {},
   "outputs": [],
   "source": [
    "print(\"최종 Validation Accuracy:\", history.history[\"val_accuracy\"][-1])\n",
    "print(\"모델 저장 완료 및 리포트 저장 완료\")"
   ]
  }
 ],
 "metadata": {
  "kernelspec": {
   "display_name": "firstENV",
   "language": "python",
   "name": "python3"
  },
  "language_info": {
   "codemirror_mode": {
    "name": "ipython",
    "version": 3
   },
   "file_extension": ".py",
   "mimetype": "text/x-python",
   "name": "python",
   "nbconvert_exporter": "python",
   "pygments_lexer": "ipython3",
   "version": "3.10.18"
  }
 },
 "nbformat": 4,
 "nbformat_minor": 5
}
